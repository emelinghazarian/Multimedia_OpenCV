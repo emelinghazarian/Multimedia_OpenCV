{
 "cells": [
  {
   "cell_type": "code",
   "execution_count": null,
   "id": "9cf6803b",
   "metadata": {},
   "outputs": [],
   "source": [
    "import cv2\n",
    "import cv2 as cv \n",
    "import numpy as np\n",
    "import time\n",
    "from matplotlib import pyplot as plt\n",
    "\n",
    "def imshow(title = \"\", image = None):\n",
    "    plt.imshow(cv2.cvtColor(image, cv2.COLOR_BGR2RGB))\n",
    "    plt.title(title)\n",
    "    plt.show()\n",
    "\n",
    "video_capture = cv2.VideoCapture(0)\n",
    "\n",
    "new_frame_time = time.time()\n",
    "\n",
    "# FPS \n",
    "display_time = 2\n",
    "fc = 0\n",
    "FPS = 0 \n",
    "\n",
    "while True:\n",
    "    # Capture frame-by-frame\n",
    "    read_ok, image = video_capture.read()\n",
    "\n",
    "    gray_image = cv2.cvtColor(image, cv2.COLOR_BGR2GRAY)\n",
    "    \n",
    "    fc+=1\n",
    "\n",
    "    if (time.time() - new_frame_time) >= display_time :\n",
    "        FPS = fc / (time.time() - new_frame_time)\n",
    "        fc = 0\n",
    "        new_frame_time = time.time()\n",
    "\n",
    "    fps_display = \"FPS: \"+str(FPS)[:5]\n",
    "\n",
    "\n",
    "    face_cascade= cv2.CascadeClassifier('haarcascades_haarcascade_frontalface_default.xml')\n",
    "\n",
    "    faces=face_cascade.detectMultiScale(gray_image,scaleFactor=1.2 , minNeighbors=6)\n",
    "\n",
    "# Draw a rectangle around the faces\n",
    "    for (x, y, w, h) in faces:\n",
    "        cv2.rectangle(image, (x, y), (x+w, y+h), (0, 255, 0), 2)\n",
    "    \n",
    "    #for displaying fps\n",
    "    image = cv2.putText(image, fps_display, (10, 25),cv2.FONT_HERSHEY_SIMPLEX, 0.7, (0, 255, 0), 2)\n",
    "    # Display the resulting frame\n",
    "    cv2.imshow('Video', image)\n",
    "\n",
    "    if cv2.waitKey(1) & 0xFF == ord('q'):\n",
    "        break\n",
    "\n",
    "# When everything is done, release the capture\n",
    "video_capture.release()\n",
    "#cv2.destroyAllWindows()"
   ]
  },
  {
   "cell_type": "code",
   "execution_count": null,
   "id": "853c1d7a",
   "metadata": {},
   "outputs": [],
   "source": []
  }
 ],
 "metadata": {
  "kernelspec": {
   "display_name": "Python 3 (ipykernel)",
   "language": "python",
   "name": "python3"
  },
  "language_info": {
   "codemirror_mode": {
    "name": "ipython",
    "version": 3
   },
   "file_extension": ".py",
   "mimetype": "text/x-python",
   "name": "python",
   "nbconvert_exporter": "python",
   "pygments_lexer": "ipython3",
   "version": "3.9.16"
  }
 },
 "nbformat": 4,
 "nbformat_minor": 5
}
